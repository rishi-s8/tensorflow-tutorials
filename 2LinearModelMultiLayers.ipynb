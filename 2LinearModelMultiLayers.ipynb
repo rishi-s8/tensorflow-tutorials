{
 "cells": [
  {
   "cell_type": "code",
   "execution_count": 1,
   "metadata": {},
   "outputs": [
    {
     "name": "stderr",
     "output_type": "stream",
     "text": [
      "Using TensorFlow backend.\n"
     ]
    }
   ],
   "source": [
    "import tensorflow as tf\n",
    "import numpy as np\n",
    "from keras.utils import np_utils"
   ]
  },
  {
   "cell_type": "code",
   "execution_count": 2,
   "metadata": {},
   "outputs": [],
   "source": [
    "x_train = np.load('data/mnist/x_train.npy')\n",
    "x_test = np.load('data/mnist/x_test.npy')\n",
    "y_train_cls = np.load('data/mnist/y_train.npy')\n",
    "y_test_cls = np.load('data/mnist/y_test.npy')"
   ]
  },
  {
   "cell_type": "code",
   "execution_count": 3,
   "metadata": {},
   "outputs": [],
   "source": [
    "num_pixels = x_train.shape[1]*x_train.shape[2]"
   ]
  },
  {
   "cell_type": "code",
   "execution_count": 4,
   "metadata": {},
   "outputs": [],
   "source": [
    "x_train = x_train.reshape(x_train.shape[0], num_pixels)\n",
    "x_test = x_test.reshape(x_test.shape[0], num_pixels)"
   ]
  },
  {
   "cell_type": "code",
   "execution_count": 5,
   "metadata": {},
   "outputs": [],
   "source": [
    "x_train = x_train/255\n",
    "x_test = x_test/255"
   ]
  },
  {
   "cell_type": "code",
   "execution_count": 6,
   "metadata": {},
   "outputs": [],
   "source": [
    "y_train = np_utils.to_categorical(y_train_cls)\n",
    "y_test = np_utils.to_categorical(y_test_cls)\n",
    "num_classes = y_train[0].size"
   ]
  },
  {
   "cell_type": "code",
   "execution_count": 7,
   "metadata": {},
   "outputs": [],
   "source": [
    "x = tf.placeholder(tf.float32, [None, num_pixels])\n",
    "y_true = tf.placeholder(tf.float32, [None, num_classes])\n",
    "y_true_cls = tf.placeholder(tf.int64, [None])"
   ]
  },
  {
   "cell_type": "code",
   "execution_count": 8,
   "metadata": {},
   "outputs": [],
   "source": [
    "K = 100\n",
    "L = 100\n",
    "M = 16\n",
    "W1 = tf.Variable(tf.truncated_normal([num_pixels, K], stddev=0.1))\n",
    "B1 = tf.Variable(tf.zeros([K]))\n",
    "W2 = tf.Variable(tf.truncated_normal([K, L], stddev=0.1))\n",
    "B2 = tf.Variable(tf.zeros([L]))\n",
    "W3 = tf.Variable(tf.truncated_normal([L, M], stddev=0.1))\n",
    "B3 = tf.Variable(tf.zeros([M]))\n",
    "W4 = tf.Variable(tf.zeros([M, num_classes]))\n",
    "B4 = tf.Variable(tf.zeros([num_classes]))"
   ]
  },
  {
   "cell_type": "code",
   "execution_count": 9,
   "metadata": {},
   "outputs": [],
   "source": [
    "Y1 = tf.nn.relu(tf.matmul(x, W1) + B1)\n",
    "Y2 = tf.nn.relu(tf.matmul(Y1, W2) + B2)\n",
    "Y3 = tf.nn.relu(tf.matmul(Y2, W3) + B3)\n",
    "Ylogits = tf.matmul(Y3, W4) + B4"
   ]
  },
  {
   "cell_type": "code",
   "execution_count": 10,
   "metadata": {},
   "outputs": [],
   "source": [
    "y_pred = tf.nn.softmax(Ylogits)\n",
    "y_pred_cls = tf.argmax(y_pred, axis=1)"
   ]
  },
  {
   "cell_type": "code",
   "execution_count": 11,
   "metadata": {},
   "outputs": [],
   "source": [
    "cross_entropy = tf.nn.softmax_cross_entropy_with_logits_v2(logits=Ylogits, labels=y_true)"
   ]
  },
  {
   "cell_type": "code",
   "execution_count": 12,
   "metadata": {},
   "outputs": [],
   "source": [
    "cost = tf.reduce_mean(cross_entropy)"
   ]
  },
  {
   "cell_type": "code",
   "execution_count": 13,
   "metadata": {},
   "outputs": [],
   "source": [
    "lr = 0.001\n",
    "optimizer = tf.train.AdamOptimizer(learning_rate=lr).minimize(cost)"
   ]
  },
  {
   "cell_type": "code",
   "execution_count": 14,
   "metadata": {},
   "outputs": [],
   "source": [
    "correct_prediction = tf.equal(y_pred_cls, y_true_cls)"
   ]
  },
  {
   "cell_type": "code",
   "execution_count": 15,
   "metadata": {},
   "outputs": [],
   "source": [
    "accuracy = tf.reduce_mean(tf.cast(correct_prediction,tf.float32))"
   ]
  },
  {
   "cell_type": "code",
   "execution_count": 16,
   "metadata": {},
   "outputs": [],
   "source": [
    "session=tf.Session()"
   ]
  },
  {
   "cell_type": "code",
   "execution_count": 17,
   "metadata": {},
   "outputs": [],
   "source": [
    "session.run(tf.global_variables_initializer())"
   ]
  },
  {
   "cell_type": "code",
   "execution_count": 18,
   "metadata": {},
   "outputs": [],
   "source": [
    "def print_accuracy():\n",
    "    acc = session.run(accuracy, feed_dict = feed_dict_test)\n",
    "    print(\"Accuracy on test-set:{0:.1%}\".format(acc))"
   ]
  },
  {
   "cell_type": "code",
   "execution_count": 19,
   "metadata": {},
   "outputs": [],
   "source": [
    "batch_size = 1000"
   ]
  },
  {
   "cell_type": "code",
   "execution_count": 20,
   "metadata": {},
   "outputs": [],
   "source": [
    "def optimize(num_iterations):\n",
    "    for j in range(num_iterations):\n",
    "        for i in range(batch_size, x_train.shape[0], batch_size):\n",
    "            x_batch = x_train[i-batch_size:i]\n",
    "            y_true_batch = y_train[i-batch_size:i]\n",
    "            feed_dict_train = {x: x_batch, y_true: y_true_batch}\n",
    "            session.run(optimizer, feed_dict=feed_dict_train)\n",
    "        print_accuracy()"
   ]
  },
  {
   "cell_type": "code",
   "execution_count": 21,
   "metadata": {},
   "outputs": [],
   "source": [
    "feed_dict_test = {x:x_test, y_true: y_test, y_true_cls: y_test_cls}"
   ]
  },
  {
   "cell_type": "code",
   "execution_count": 22,
   "metadata": {},
   "outputs": [
    {
     "name": "stdout",
     "output_type": "stream",
     "text": [
      "Accuracy on test-set:9.8%\n"
     ]
    }
   ],
   "source": [
    "print_accuracy()"
   ]
  },
  {
   "cell_type": "code",
   "execution_count": 23,
   "metadata": {},
   "outputs": [
    {
     "name": "stdout",
     "output_type": "stream",
     "text": [
      "Accuracy on test-set:79.5%\n",
      "Accuracy on test-set:88.0%\n",
      "Accuracy on test-set:90.3%\n",
      "Accuracy on test-set:91.5%\n",
      "Accuracy on test-set:92.6%\n",
      "Accuracy on test-set:93.5%\n",
      "Accuracy on test-set:94.3%\n",
      "Accuracy on test-set:94.7%\n",
      "Accuracy on test-set:95.1%\n",
      "Accuracy on test-set:95.3%\n",
      "Accuracy on test-set:95.6%\n",
      "Accuracy on test-set:95.7%\n",
      "Accuracy on test-set:95.8%\n",
      "Accuracy on test-set:95.9%\n",
      "Accuracy on test-set:96.1%\n",
      "Accuracy on test-set:96.2%\n",
      "Accuracy on test-set:96.3%\n",
      "Accuracy on test-set:96.4%\n",
      "Accuracy on test-set:96.5%\n",
      "Accuracy on test-set:96.5%\n",
      "Accuracy on test-set:96.6%\n",
      "Accuracy on test-set:96.7%\n",
      "Accuracy on test-set:96.8%\n",
      "Accuracy on test-set:96.8%\n",
      "Accuracy on test-set:96.9%\n",
      "Accuracy on test-set:97.0%\n",
      "Accuracy on test-set:97.1%\n",
      "Accuracy on test-set:97.1%\n",
      "Accuracy on test-set:97.1%\n",
      "Accuracy on test-set:97.1%\n",
      "Accuracy on test-set:97.1%\n",
      "Accuracy on test-set:97.0%\n",
      "Accuracy on test-set:97.0%\n",
      "Accuracy on test-set:96.9%\n",
      "Accuracy on test-set:96.9%\n",
      "Accuracy on test-set:96.8%\n",
      "Accuracy on test-set:96.8%\n",
      "Accuracy on test-set:96.8%\n",
      "Accuracy on test-set:96.8%\n",
      "Accuracy on test-set:96.8%\n",
      "Accuracy on test-set:96.8%\n",
      "Accuracy on test-set:96.7%\n",
      "Accuracy on test-set:96.7%\n",
      "Accuracy on test-set:96.8%\n",
      "Accuracy on test-set:96.7%\n",
      "Accuracy on test-set:96.8%\n",
      "Accuracy on test-set:96.9%\n",
      "Accuracy on test-set:97.0%\n",
      "Accuracy on test-set:97.2%\n",
      "Accuracy on test-set:97.1%\n"
     ]
    }
   ],
   "source": [
    "optimize(num_iterations=50)"
   ]
  },
  {
   "cell_type": "code",
   "execution_count": 24,
   "metadata": {},
   "outputs": [
    {
     "data": {
      "text/plain": [
       "array([[ 0.01041015,  0.09876003,  0.01406203, ...,  0.11147583,\n",
       "        -0.02594297,  0.03839013],\n",
       "       [-0.097909  ,  0.04283417,  0.05397631, ..., -0.10782949,\n",
       "         0.12002303,  0.00743081],\n",
       "       [ 0.12759419, -0.15110178,  0.05785024, ...,  0.06201567,\n",
       "         0.05376475,  0.06537362],\n",
       "       ...,\n",
       "       [-0.0309311 , -0.02800534,  0.02194079, ..., -0.16236663,\n",
       "         0.03815215,  0.07131687],\n",
       "       [-0.08140947,  0.02606686, -0.04039243, ..., -0.07770664,\n",
       "        -0.17591047,  0.00305609],\n",
       "       [ 0.03691721,  0.14763652, -0.12729815, ..., -0.0338861 ,\n",
       "        -0.12731905, -0.08953771]], dtype=float32)"
      ]
     },
     "execution_count": 24,
     "metadata": {},
     "output_type": "execute_result"
    }
   ],
   "source": [
    "W1.eval(session=session)"
   ]
  },
  {
   "cell_type": "code",
   "execution_count": null,
   "metadata": {},
   "outputs": [],
   "source": []
  }
 ],
 "metadata": {
  "kernelspec": {
   "display_name": "Python 3",
   "language": "python",
   "name": "python3"
  },
  "language_info": {
   "codemirror_mode": {
    "name": "ipython",
    "version": 3
   },
   "file_extension": ".py",
   "mimetype": "text/x-python",
   "name": "python",
   "nbconvert_exporter": "python",
   "pygments_lexer": "ipython3",
   "version": "3.6.8"
  }
 },
 "nbformat": 4,
 "nbformat_minor": 2
}
