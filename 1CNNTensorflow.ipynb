{
 "cells": [
  {
   "cell_type": "code",
   "execution_count": 1,
   "metadata": {},
   "outputs": [
    {
     "name": "stderr",
     "output_type": "stream",
     "text": [
      "Using TensorFlow backend.\n"
     ]
    }
   ],
   "source": [
    "import tensorflow as tf\n",
    "import numpy as np\n",
    "from keras.utils import np_utils"
   ]
  },
  {
   "cell_type": "code",
   "execution_count": 2,
   "metadata": {},
   "outputs": [
    {
     "data": {
      "text/plain": [
       "'1.12.0'"
      ]
     },
     "execution_count": 2,
     "metadata": {},
     "output_type": "execute_result"
    }
   ],
   "source": [
    "tf.__version__"
   ]
  },
  {
   "cell_type": "code",
   "execution_count": 3,
   "metadata": {},
   "outputs": [],
   "source": [
    "x_train = np.load('./data/mnist/x_train.npy')\n",
    "x_test = np.load('./data/mnist/x_test.npy')\n",
    "y_train_cls = np.load('./data/mnist/y_train.npy')\n",
    "y_test_cls = np.load('./data/mnist/y_test.npy')"
   ]
  },
  {
   "cell_type": "code",
   "execution_count": 4,
   "metadata": {},
   "outputs": [],
   "source": [
    "num_pixels = x_train.shape[1]\n",
    "num_channels = 1"
   ]
  },
  {
   "cell_type": "code",
   "execution_count": 5,
   "metadata": {},
   "outputs": [],
   "source": [
    "x_train = x_train.astype('float32')\n",
    "x_test = x_test.astype('float32')"
   ]
  },
  {
   "cell_type": "code",
   "execution_count": 6,
   "metadata": {},
   "outputs": [],
   "source": [
    "x_train = x_train/255\n",
    "x_test = x_test/255"
   ]
  },
  {
   "cell_type": "code",
   "execution_count": 7,
   "metadata": {},
   "outputs": [],
   "source": [
    "y_train = np_utils.to_categorical(y_train_cls)\n",
    "y_test = np_utils.to_categorical(y_test_cls)\n",
    "num_classes = y_train[0].size"
   ]
  },
  {
   "cell_type": "code",
   "execution_count": 8,
   "metadata": {},
   "outputs": [],
   "source": [
    "filter_size1 = 5\n",
    "num_filters1 = 16\n",
    "\n",
    "filter_size2 = 5\n",
    "num_filters2 = 36\n",
    "\n",
    "fc_size = 128"
   ]
  },
  {
   "cell_type": "code",
   "execution_count": 9,
   "metadata": {},
   "outputs": [],
   "source": [
    "x = tf.placeholder(tf.float32, [None, num_pixels, num_pixels])\n",
    "x_img = tf.reshape(x,[-1,num_pixels,num_pixels,num_channels])"
   ]
  },
  {
   "cell_type": "code",
   "execution_count": 10,
   "metadata": {},
   "outputs": [],
   "source": [
    "y_true = tf.placeholder(tf.float32, [None, num_classes])\n",
    "y_true_cls = tf.placeholder(tf.int64, [None])"
   ]
  },
  {
   "cell_type": "code",
   "execution_count": 11,
   "metadata": {},
   "outputs": [],
   "source": [
    "def new_weights(shape):\n",
    "    return tf.Variable(tf.truncated_normal(shape, stddev=0.05))"
   ]
  },
  {
   "cell_type": "code",
   "execution_count": 12,
   "metadata": {},
   "outputs": [],
   "source": [
    "def new_biases(length):\n",
    "    return tf.Variable(tf.constant(0.05, shape=[length]))"
   ]
  },
  {
   "cell_type": "code",
   "execution_count": 13,
   "metadata": {},
   "outputs": [],
   "source": [
    "def new_conv_layer(input, num_input_channels, filter_size, num_filters, use_pooling=True):\n",
    "    shape = [filter_size, filter_size, num_input_channels, num_filters]\n",
    "    weights = new_weights(shape=shape)\n",
    "    biases = new_biases(length=num_filters)\n",
    "    \n",
    "    layer = tf.nn.conv2d(input = input, filter = weights, strides = [1,1,1,1], padding='SAME')\n",
    "    layer += biases\n",
    "    \n",
    "    if use_pooling:\n",
    "        layer = tf.nn.max_pool(value=layer, ksize=[1,2,2,1], strides=[1,2,2,1], padding='SAME')\n",
    "    \n",
    "    layer = tf.nn.relu(layer)\n",
    "    print(\"No. of parameters: \" +  str(layer.get_shape()[1:4].num_elements()))\n",
    "    return layer, weights"
   ]
  },
  {
   "cell_type": "code",
   "execution_count": 14,
   "metadata": {},
   "outputs": [],
   "source": [
    "def flatten_layer(layer):\n",
    "    layer_shape = layer.get_shape()\n",
    "    num_features = layer_shape[1:4].num_elements()\n",
    "    layer_flat = tf.reshape(layer, [-1,num_features])\n",
    "    return layer_flat, num_features"
   ]
  },
  {
   "cell_type": "code",
   "execution_count": 15,
   "metadata": {},
   "outputs": [],
   "source": [
    "def new_fc_layer(input,num_inputs, num_outputs, use_relu=True):\n",
    "    weights = new_weights(shape=[num_inputs, num_outputs])\n",
    "    biases = new_biases(length=num_outputs)\n",
    "    layer=tf.matmul(input,weights)+biases\n",
    "    if use_relu:\n",
    "        layer = tf.nn.relu(layer)\n",
    "    return layer"
   ]
  },
  {
   "cell_type": "code",
   "execution_count": 16,
   "metadata": {},
   "outputs": [
    {
     "name": "stdout",
     "output_type": "stream",
     "text": [
      "No. of parameters: 3136\n"
     ]
    }
   ],
   "source": [
    "layer_conv1, weights_conv1 = new_conv_layer(input=x_img, num_input_channels=num_channels, filter_size=filter_size1, num_filters=num_filters1, use_pooling=True)"
   ]
  },
  {
   "cell_type": "code",
   "execution_count": 17,
   "metadata": {},
   "outputs": [
    {
     "data": {
      "text/plain": [
       "<tf.Tensor 'Relu:0' shape=(?, 14, 14, 16) dtype=float32>"
      ]
     },
     "execution_count": 17,
     "metadata": {},
     "output_type": "execute_result"
    }
   ],
   "source": [
    "layer_conv1"
   ]
  },
  {
   "cell_type": "code",
   "execution_count": 18,
   "metadata": {},
   "outputs": [
    {
     "name": "stdout",
     "output_type": "stream",
     "text": [
      "No. of parameters: 1764\n"
     ]
    }
   ],
   "source": [
    "layer_conv2, weights_conv2 = new_conv_layer(input=layer_conv1, num_input_channels=num_filters1, filter_size=filter_size2, num_filters=num_filters2, use_pooling=True)"
   ]
  },
  {
   "cell_type": "code",
   "execution_count": 19,
   "metadata": {},
   "outputs": [
    {
     "data": {
      "text/plain": [
       "<tf.Tensor 'Relu_1:0' shape=(?, 7, 7, 36) dtype=float32>"
      ]
     },
     "execution_count": 19,
     "metadata": {},
     "output_type": "execute_result"
    }
   ],
   "source": [
    "layer_conv2"
   ]
  },
  {
   "cell_type": "code",
   "execution_count": 20,
   "metadata": {},
   "outputs": [],
   "source": [
    "layer_flat, num_features = flatten_layer(layer_conv2)"
   ]
  },
  {
   "cell_type": "code",
   "execution_count": 21,
   "metadata": {},
   "outputs": [
    {
     "data": {
      "text/plain": [
       "<tf.Tensor 'Reshape_1:0' shape=(?, 1764) dtype=float32>"
      ]
     },
     "execution_count": 21,
     "metadata": {},
     "output_type": "execute_result"
    }
   ],
   "source": [
    "layer_flat"
   ]
  },
  {
   "cell_type": "code",
   "execution_count": 22,
   "metadata": {},
   "outputs": [],
   "source": [
    "layer_fc1 = new_fc_layer(input=layer_flat, num_inputs=num_features, num_outputs=fc_size,use_relu=True)"
   ]
  },
  {
   "cell_type": "code",
   "execution_count": 23,
   "metadata": {},
   "outputs": [],
   "source": [
    "layer_fc2 = new_fc_layer(input=layer_fc1, num_inputs=fc_size, num_outputs=num_classes,use_relu=False)"
   ]
  },
  {
   "cell_type": "code",
   "execution_count": 24,
   "metadata": {},
   "outputs": [
    {
     "data": {
      "text/plain": [
       "<tf.Tensor 'add_3:0' shape=(?, 10) dtype=float32>"
      ]
     },
     "execution_count": 24,
     "metadata": {},
     "output_type": "execute_result"
    }
   ],
   "source": [
    "layer_fc2"
   ]
  },
  {
   "cell_type": "code",
   "execution_count": 25,
   "metadata": {},
   "outputs": [],
   "source": [
    "y_pred = tf.nn.softmax(layer_fc2)\n",
    "y_pred_cls = tf.argmax(y_pred, axis=1)"
   ]
  },
  {
   "cell_type": "code",
   "execution_count": 26,
   "metadata": {},
   "outputs": [],
   "source": [
    "cross_entropy = tf.nn.softmax_cross_entropy_with_logits_v2(logits=layer_fc2, labels=y_true)"
   ]
  },
  {
   "cell_type": "code",
   "execution_count": 27,
   "metadata": {},
   "outputs": [],
   "source": [
    "cost = tf.reduce_mean(cross_entropy)"
   ]
  },
  {
   "cell_type": "code",
   "execution_count": 28,
   "metadata": {},
   "outputs": [],
   "source": [
    "lr = 0.0001\n",
    "optimizer = tf.train.AdamOptimizer(learning_rate=lr).minimize(cost)"
   ]
  },
  {
   "cell_type": "code",
   "execution_count": 29,
   "metadata": {},
   "outputs": [],
   "source": [
    "correct_prediction = tf.equal(y_pred_cls, y_true_cls)"
   ]
  },
  {
   "cell_type": "code",
   "execution_count": 30,
   "metadata": {},
   "outputs": [],
   "source": [
    "accuracy = tf.reduce_mean(tf.cast(correct_prediction,tf.float32))"
   ]
  },
  {
   "cell_type": "code",
   "execution_count": 31,
   "metadata": {},
   "outputs": [],
   "source": [
    "session=tf.Session()"
   ]
  },
  {
   "cell_type": "code",
   "execution_count": 32,
   "metadata": {},
   "outputs": [],
   "source": [
    "session.run(tf.global_variables_initializer())"
   ]
  },
  {
   "cell_type": "code",
   "execution_count": null,
   "metadata": {},
   "outputs": [],
   "source": [
    "def print_accuracy():\n",
    "    acc = session.run(accuracy, feed_dict = feed_dict_test)\n",
    "    print(\"Accuracy on test-set:{0:.1%}\".format(acc))"
   ]
  },
  {
   "cell_type": "code",
   "execution_count": 33,
   "metadata": {},
   "outputs": [],
   "source": [
    "batch_size = 64"
   ]
  },
  {
   "cell_type": "code",
   "execution_count": 34,
   "metadata": {},
   "outputs": [],
   "source": [
    "def optimize(num_iterations):\n",
    "    for j in range(num_iterations):\n",
    "        print(\"Iteration: \" + str(j))\n",
    "        for i in range(batch_size, x_train.shape[0], batch_size):\n",
    "            x_batch = x_train[i-batch_size:i]\n",
    "            y_true_batch = y_train[i-batch_size:i]\n",
    "            feed_dict_train = {x: x_batch, y_true: y_true_batch}\n",
    "            session.run(optimizer, feed_dict=feed_dict_train)\n",
    "        print_accuracy()"
   ]
  },
  {
   "cell_type": "code",
   "execution_count": 35,
   "metadata": {},
   "outputs": [],
   "source": [
    "feed_dict_test = {x:x_test, y_true: y_test, y_true_cls: y_test_cls}"
   ]
  },
  {
   "cell_type": "code",
   "execution_count": 37,
   "metadata": {},
   "outputs": [],
   "source": [
    "print_accuracy()"
   ]
  },
  {
   "cell_type": "code",
   "execution_count": 38,
   "metadata": {},
   "outputs": [
    {
     "data": {
      "text/plain": [
       "array([[[[-1.83622893e-02, -1.95531175e-02,  2.69870758e-02,\n",
       "          -1.09492894e-02, -5.39430883e-03, -5.08253044e-03,\n",
       "          -2.57888623e-02, -1.96058564e-02,  1.90910436e-02,\n",
       "          -8.34563822e-02,  3.17862560e-03,  4.68894951e-02,\n",
       "          -7.63530061e-02, -4.07735184e-02,  5.02007864e-02,\n",
       "           5.30847311e-02]],\n",
       "\n",
       "        [[ 4.22851257e-02, -8.92702565e-02, -4.53758193e-03,\n",
       "           2.93086153e-02,  1.43771889e-02, -3.68995010e-03,\n",
       "           5.51007781e-03,  2.16007489e-03,  4.01154533e-02,\n",
       "           2.41086911e-02,  6.11188225e-02, -6.88165575e-02,\n",
       "           5.18317756e-05,  5.30268066e-02,  1.00708026e-02,\n",
       "          -2.96863019e-02]],\n",
       "\n",
       "        [[-3.69109064e-02,  1.68617144e-02,  4.39846963e-02,\n",
       "          -1.46965189e-02, -6.29031137e-02, -8.05874690e-02,\n",
       "          -6.33371174e-02, -5.19741252e-02, -4.70990241e-02,\n",
       "          -2.76160869e-03, -3.17893587e-02, -1.25446767e-02,\n",
       "           6.50916100e-02,  1.34970723e-02, -1.94671527e-02,\n",
       "          -4.09251489e-02]],\n",
       "\n",
       "        [[ 8.40687454e-02,  5.15852980e-02, -1.97896939e-02,\n",
       "          -5.92148863e-02, -4.25584652e-02,  2.25202516e-02,\n",
       "          -8.01640972e-02,  9.11026669e-04, -1.93757117e-02,\n",
       "           1.63965058e-02, -2.30635866e-03,  9.18458402e-03,\n",
       "           3.33587788e-02,  6.25698715e-02,  6.77010268e-02,\n",
       "           7.12995592e-04]],\n",
       "\n",
       "        [[-5.70565835e-02, -6.42471761e-02,  1.12628806e-02,\n",
       "           1.20031256e-02, -5.58028780e-02,  4.92215250e-03,\n",
       "           2.46499553e-02, -5.88829182e-02, -3.82088535e-02,\n",
       "          -1.16444035e-02, -2.62518767e-02,  4.48278934e-02,\n",
       "          -8.08845684e-02, -3.30948867e-02, -1.22530237e-02,\n",
       "           1.56343114e-02]]],\n",
       "\n",
       "\n",
       "       [[[-4.90010343e-02,  4.23440943e-04, -4.23666649e-02,\n",
       "          -1.71425696e-02,  5.48833124e-02,  8.57374221e-02,\n",
       "           7.69233471e-03, -9.46234539e-03,  5.95620759e-02,\n",
       "           3.19988690e-02, -6.08075634e-02, -4.90119420e-02,\n",
       "          -7.46393157e-03, -1.15612671e-02, -7.36371726e-02,\n",
       "           5.83680049e-02]],\n",
       "\n",
       "        [[-5.08444421e-02,  1.63363405e-02,  1.50907999e-02,\n",
       "           9.82651934e-02, -5.43923564e-02, -4.11444390e-03,\n",
       "           2.50417534e-02,  7.69822253e-03,  4.01436277e-02,\n",
       "          -5.07259481e-02, -1.40859289e-02, -6.22148206e-03,\n",
       "          -3.27653997e-02, -7.86769837e-02, -3.85041498e-02,\n",
       "           8.01042542e-02]],\n",
       "\n",
       "        [[-6.43064380e-02,  2.40434296e-02, -1.59387162e-03,\n",
       "          -2.92996354e-02, -1.84720401e-02,  1.82159152e-02,\n",
       "           5.15555553e-02,  6.42997548e-02,  1.73750259e-02,\n",
       "           3.44326012e-02, -1.53391510e-02,  2.91205049e-02,\n",
       "           4.48663048e-02,  8.85394216e-02,  2.71987705e-03,\n",
       "          -1.48247229e-02]],\n",
       "\n",
       "        [[ 6.00184985e-02, -1.63668450e-02, -9.80199650e-02,\n",
       "           2.02002432e-02, -5.67944953e-05, -3.06842513e-02,\n",
       "           1.45765692e-02,  7.69500360e-02, -7.60799423e-02,\n",
       "          -3.75129767e-02,  1.46608865e-02,  4.45577875e-02,\n",
       "           3.19246612e-02, -4.48638201e-02, -5.31245060e-02,\n",
       "           1.65313780e-02]],\n",
       "\n",
       "        [[-7.11407214e-02,  9.04548094e-02,  3.59708332e-02,\n",
       "          -4.44259234e-02, -4.92530428e-02, -3.39290500e-02,\n",
       "          -2.55243927e-02,  6.23536520e-02,  8.51324871e-02,\n",
       "          -5.73709682e-02, -3.27639515e-03,  9.99428853e-02,\n",
       "           3.81451100e-02, -7.86322579e-02,  1.01800717e-03,\n",
       "           6.85859099e-02]]],\n",
       "\n",
       "\n",
       "       [[[ 9.96808615e-03, -8.58593136e-02,  4.23750049e-03,\n",
       "           4.90720943e-02,  4.61210273e-02, -3.04430779e-02,\n",
       "           7.41135105e-02, -1.31101757e-02, -1.70127880e-02,\n",
       "          -3.45363654e-02, -3.83140557e-02,  3.84740196e-02,\n",
       "           7.10074455e-02, -6.05811179e-03,  5.18653356e-02,\n",
       "          -6.04014993e-02]],\n",
       "\n",
       "        [[-2.87237111e-02, -1.40066175e-02,  2.97665652e-02,\n",
       "           9.18917060e-02, -9.99620482e-02, -7.60167018e-02,\n",
       "          -2.60759629e-02,  3.44407484e-02, -4.51309644e-02,\n",
       "           5.88487089e-02,  2.94156205e-02, -7.75686055e-02,\n",
       "           6.69945106e-02,  3.56165059e-02, -4.94808368e-02,\n",
       "          -3.18557285e-02]],\n",
       "\n",
       "        [[ 1.16025722e-02, -3.54418010e-02,  2.93540712e-02,\n",
       "           6.87617138e-02, -4.78950366e-02, -7.89546594e-02,\n",
       "           2.90455204e-02,  1.24908108e-02,  8.07138905e-02,\n",
       "          -8.38441402e-03,  1.21667832e-02, -2.59871576e-02,\n",
       "           3.39558236e-02,  6.15211986e-02, -3.47634777e-02,\n",
       "           2.46270578e-02]],\n",
       "\n",
       "        [[-3.65397558e-02,  2.43934374e-02,  6.79971511e-03,\n",
       "          -1.63261425e-02, -5.84169701e-02,  3.74444015e-02,\n",
       "          -4.87031750e-02, -1.57247356e-03, -4.42336574e-02,\n",
       "          -1.26023609e-02,  3.90632404e-03,  1.86178964e-02,\n",
       "           8.39372724e-02, -2.08638441e-02, -7.48741031e-02,\n",
       "          -9.58418995e-02]],\n",
       "\n",
       "        [[ 4.81761470e-02,  1.59285385e-02,  8.36634915e-03,\n",
       "           1.12025877e-02,  2.96512637e-02,  7.91584849e-02,\n",
       "           1.96887250e-03, -9.97633561e-02, -3.46607976e-02,\n",
       "          -4.11279239e-02, -3.05557493e-02, -1.66458134e-02,\n",
       "           2.77059507e-02, -7.88563117e-03,  6.12789392e-02,\n",
       "           7.48554338e-03]]],\n",
       "\n",
       "\n",
       "       [[[ 2.96269301e-02,  2.53616110e-03, -1.59603041e-02,\n",
       "          -2.07304489e-02, -1.74679458e-02,  5.77712432e-02,\n",
       "           8.21042657e-02,  7.07538351e-02, -5.73037826e-02,\n",
       "          -4.79517579e-02, -3.58690545e-02,  1.52084175e-02,\n",
       "          -5.55412192e-03, -2.28257608e-02, -3.56602073e-02,\n",
       "          -4.62182425e-02]],\n",
       "\n",
       "        [[-1.25661669e-02,  2.17794371e-03, -8.53834953e-03,\n",
       "          -2.67458148e-02,  1.45478249e-02, -7.89126288e-03,\n",
       "          -1.68524217e-02,  2.32749991e-02,  5.84716871e-02,\n",
       "           9.23419371e-02, -2.78518051e-02,  4.84465063e-03,\n",
       "           1.77722406e-02, -3.88966091e-02,  5.94316721e-02,\n",
       "          -8.03877637e-02]],\n",
       "\n",
       "        [[-7.64384493e-02, -4.43935432e-02, -2.49154363e-02,\n",
       "           1.93787869e-02, -5.69026880e-02,  4.11805771e-02,\n",
       "           1.52762700e-02, -6.50240481e-02,  1.26911271e-02,\n",
       "           1.96050163e-02, -2.57911570e-02,  7.79683283e-03,\n",
       "          -4.69512120e-02, -7.32317343e-02, -2.38903388e-02,\n",
       "          -8.05617124e-03]],\n",
       "\n",
       "        [[ 1.82602871e-02, -6.12072125e-02,  1.10642090e-02,\n",
       "           6.56890497e-02,  2.42945440e-02,  1.29771428e-02,\n",
       "          -1.96117889e-02, -5.12598157e-02, -1.46060809e-02,\n",
       "           6.12793081e-02, -1.75696854e-02, -8.93968046e-02,\n",
       "          -7.27837905e-02, -5.11491299e-02, -2.55164858e-02,\n",
       "           7.15548545e-03]],\n",
       "\n",
       "        [[-2.37243380e-02, -7.16762478e-03,  8.32951441e-03,\n",
       "           6.66811243e-02, -6.44753203e-02, -9.16995760e-03,\n",
       "          -4.05412838e-02,  2.31500063e-02,  8.23562592e-02,\n",
       "           8.23453814e-03, -5.29850386e-02, -2.90562934e-03,\n",
       "           2.35526450e-02,  4.58820170e-04,  1.67363901e-02,\n",
       "           5.19452356e-02]]],\n",
       "\n",
       "\n",
       "       [[[-5.62145188e-02,  1.64858047e-02,  4.39834557e-02,\n",
       "          -2.06572413e-02,  8.45233537e-03,  6.22346401e-02,\n",
       "          -5.52666262e-02, -2.13722065e-02, -6.90308064e-02,\n",
       "           1.39395343e-02,  3.70040350e-03,  2.95622237e-02,\n",
       "           3.08077969e-02, -7.13336617e-02,  3.56002785e-02,\n",
       "           1.51606072e-02]],\n",
       "\n",
       "        [[ 2.21191416e-03, -2.73512490e-02, -3.62166874e-02,\n",
       "           2.84793656e-02,  6.89730793e-03,  6.47427142e-02,\n",
       "           3.84865375e-03,  4.18401808e-02, -5.05448366e-03,\n",
       "          -1.34106493e-02,  7.43611902e-02, -6.37062117e-02,\n",
       "           1.92355718e-02,  4.49905805e-02, -1.26899928e-02,\n",
       "           4.53082658e-02]],\n",
       "\n",
       "        [[-1.33330813e-02, -1.72853675e-02, -1.00299837e-02,\n",
       "           4.81605642e-02,  4.46185842e-02, -1.95162953e-03,\n",
       "          -6.32036710e-03,  4.51956540e-02, -1.20334867e-02,\n",
       "           4.05117534e-02, -8.27276632e-02,  1.31838294e-02,\n",
       "           5.22572994e-02,  2.82573886e-02, -4.60894294e-02,\n",
       "          -2.20333692e-02]],\n",
       "\n",
       "        [[ 7.75299082e-03,  4.72291484e-02,  3.79624628e-02,\n",
       "           2.52230908e-03, -1.27095254e-02, -5.75500494e-03,\n",
       "          -4.10761163e-02,  6.92854449e-03, -4.66175936e-02,\n",
       "           6.00943528e-02, -5.44460677e-02, -2.52191462e-02,\n",
       "          -4.34596501e-02, -6.83461130e-02, -2.15619784e-02,\n",
       "           3.86681929e-02]],\n",
       "\n",
       "        [[ 1.18503524e-02, -2.38361228e-02,  3.84914875e-02,\n",
       "           3.05191111e-02, -3.86459455e-02, -2.35409383e-02,\n",
       "           2.07626633e-02, -2.11343262e-02,  8.24900493e-02,\n",
       "           7.00901775e-03,  1.25777698e-03, -4.88569476e-02,\n",
       "           2.43997127e-02, -5.05704954e-02,  1.56413112e-02,\n",
       "          -9.44547169e-03]]]], dtype=float32)"
      ]
     },
     "execution_count": 38,
     "metadata": {},
     "output_type": "execute_result"
    }
   ],
   "source": [
    "weights_conv1.eval(session=session)"
   ]
  },
  {
   "cell_type": "code",
   "execution_count": null,
   "metadata": {},
   "outputs": [],
   "source": [
    "weights_conv2.eval(session=session)"
   ]
  },
  {
   "cell_type": "code",
   "execution_count": 39,
   "metadata": {},
   "outputs": [
    {
     "name": "stdout",
     "output_type": "stream",
     "text": [
      "Iteration: 0\n"
     ]
    }
   ],
   "source": [
    "optimize(num_iterations=2)"
   ]
  },
  {
   "cell_type": "code",
   "execution_count": null,
   "metadata": {},
   "outputs": [],
   "source": []
  }
 ],
 "metadata": {
  "kernelspec": {
   "display_name": "Python 3",
   "language": "python",
   "name": "python3"
  },
  "language_info": {
   "codemirror_mode": {
    "name": "ipython",
    "version": 3
   },
   "file_extension": ".py",
   "mimetype": "text/x-python",
   "name": "python",
   "nbconvert_exporter": "python",
   "pygments_lexer": "ipython3",
   "version": "3.6.8"
  }
 },
 "nbformat": 4,
 "nbformat_minor": 2
}
