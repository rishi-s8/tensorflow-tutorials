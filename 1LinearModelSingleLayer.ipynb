{
 "cells": [
  {
   "cell_type": "code",
   "execution_count": 2,
   "metadata": {},
   "outputs": [
    {
     "name": "stderr",
     "output_type": "stream",
     "text": [
      "Using TensorFlow backend.\n"
     ]
    }
   ],
   "source": [
    "import tensorflow as tf\n",
    "import numpy as np\n",
    "from keras.utils import np_utils"
   ]
  },
  {
   "cell_type": "code",
   "execution_count": 3,
   "metadata": {},
   "outputs": [
    {
     "name": "stdout",
     "output_type": "stream",
     "text": [
      "[5 0 4 1 9 2 1 3 1 4 3 5 3 6 1 7 2 8 6 9 4 0 9 1 1 2 4 3 2 7 3 8 6 9 0 5 6\n",
      " 0 7 6 1 8 7 9 3 9 8 5 9 3 3 0 7 4 9 8 0 9 4 1 4 4 6 0]\n"
     ]
    }
   ],
   "source": [
    "x_train = np.load('data/mnist/x_train.npy')\n",
    "x_test = np.load('data/mnist/x_test.npy')\n",
    "y_train_cls = np.load('data/mnist/y_train.npy')\n",
    "y_test_cls = np.load('data/mnist/y_test.npy')\n",
    "print(y_train_cls[0:64])"
   ]
  },
  {
   "cell_type": "code",
   "execution_count": 3,
   "metadata": {},
   "outputs": [],
   "source": [
    "num_pixels = x_train.shape[1]*x_train.shape[2]"
   ]
  },
  {
   "cell_type": "code",
   "execution_count": 4,
   "metadata": {},
   "outputs": [],
   "source": [
    "x_train = x_train.reshape(x_train.shape[0], num_pixels)\n",
    "x_test = x_test.reshape(x_test.shape[0], num_pixels)"
   ]
  },
  {
   "cell_type": "code",
   "execution_count": 5,
   "metadata": {},
   "outputs": [],
   "source": [
    "x_train = x_train/255\n",
    "x_test = x_test/255"
   ]
  },
  {
   "cell_type": "code",
   "execution_count": 6,
   "metadata": {},
   "outputs": [],
   "source": [
    "y_train = np_utils.to_categorical(y_train_cls)\n",
    "y_test = np_utils.to_categorical(y_test_cls)\n",
    "num_classes = y_train[0].size"
   ]
  },
  {
   "cell_type": "code",
   "execution_count": 7,
   "metadata": {},
   "outputs": [],
   "source": [
    "x = tf.placeholder(tf.float32, [None, num_pixels])\n",
    "y_true = tf.placeholder(tf.float32, [None, num_classes])\n",
    "y_true_cls = tf.placeholder(tf.int64, [None])"
   ]
  },
  {
   "cell_type": "code",
   "execution_count": 9,
   "metadata": {},
   "outputs": [],
   "source": [
    "W1 = tf.Variable(tf.truncated_normal([num_pixels, num_classes], stddev=0.1))\n",
    "B1 = tf.Variable(tf.zeros([num_classes]))"
   ]
  },
  {
   "cell_type": "code",
   "execution_count": 10,
   "metadata": {},
   "outputs": [],
   "source": [
    "Ylogits = tf.matmul(x, W1) + B1"
   ]
  },
  {
   "cell_type": "code",
   "execution_count": 11,
   "metadata": {},
   "outputs": [],
   "source": [
    "y_pred = tf.nn.softmax(Ylogits)\n",
    "y_pred_cls = tf.argmax(y_pred, axis=1)"
   ]
  },
  {
   "cell_type": "code",
   "execution_count": 12,
   "metadata": {},
   "outputs": [],
   "source": [
    "cross_entropy = tf.nn.softmax_cross_entropy_with_logits_v2(logits=Ylogits, labels=y_true)"
   ]
  },
  {
   "cell_type": "code",
   "execution_count": 13,
   "metadata": {},
   "outputs": [],
   "source": [
    "cost = tf.reduce_mean(cross_entropy)"
   ]
  },
  {
   "cell_type": "code",
   "execution_count": 14,
   "metadata": {},
   "outputs": [],
   "source": [
    "lr = 0.001\n",
    "optimizer = tf.train.AdamOptimizer(learning_rate=lr).minimize(cost)"
   ]
  },
  {
   "cell_type": "code",
   "execution_count": 15,
   "metadata": {},
   "outputs": [],
   "source": [
    "correct_prediction = tf.equal(y_pred_cls, y_true_cls)"
   ]
  },
  {
   "cell_type": "code",
   "execution_count": 16,
   "metadata": {},
   "outputs": [],
   "source": [
    "accuracy = tf.reduce_mean(tf.cast(correct_prediction,tf.float32))"
   ]
  },
  {
   "cell_type": "code",
   "execution_count": 17,
   "metadata": {},
   "outputs": [],
   "source": [
    "session=tf.Session()"
   ]
  },
  {
   "cell_type": "code",
   "execution_count": 18,
   "metadata": {},
   "outputs": [],
   "source": [
    "session.run(tf.global_variables_initializer())"
   ]
  },
  {
   "cell_type": "code",
   "execution_count": 19,
   "metadata": {},
   "outputs": [],
   "source": [
    "def print_accuracy():\n",
    "    acc = session.run(accuracy, feed_dict = feed_dict_test)\n",
    "    print(\"Accuracy on test-set:{0:.1%}\".format(acc))"
   ]
  },
  {
   "cell_type": "code",
   "execution_count": 20,
   "metadata": {},
   "outputs": [],
   "source": [
    "batch_size = 1000"
   ]
  },
  {
   "cell_type": "code",
   "execution_count": 21,
   "metadata": {},
   "outputs": [],
   "source": [
    "def optimize(num_iterations):\n",
    "    for j in range(num_iterations):\n",
    "        for i in range(batch_size, x_train.shape[0], batch_size):\n",
    "            x_batch = x_train[i-batch_size:i]\n",
    "            y_true_batch = y_train[i-batch_size:i]\n",
    "            feed_dict_train = {x: x_batch, y_true: y_true_batch}\n",
    "            session.run(optimizer, feed_dict=feed_dict_train)\n",
    "        print_accuracy()"
   ]
  },
  {
   "cell_type": "code",
   "execution_count": 22,
   "metadata": {},
   "outputs": [],
   "source": [
    "feed_dict_test = {x:x_test, y_true: y_test, y_true_cls: y_test_cls}"
   ]
  },
  {
   "cell_type": "code",
   "execution_count": 23,
   "metadata": {},
   "outputs": [
    {
     "name": "stdout",
     "output_type": "stream",
     "text": [
      "Accuracy on test-set:17.5%\n"
     ]
    }
   ],
   "source": [
    "print_accuracy()"
   ]
  },
  {
   "cell_type": "code",
   "execution_count": 24,
   "metadata": {},
   "outputs": [
    {
     "name": "stdout",
     "output_type": "stream",
     "text": [
      "Accuracy on test-set:75.8%\n",
      "Accuracy on test-set:84.3%\n",
      "Accuracy on test-set:87.2%\n",
      "Accuracy on test-set:88.5%\n",
      "Accuracy on test-set:89.2%\n",
      "Accuracy on test-set:89.7%\n",
      "Accuracy on test-set:90.1%\n",
      "Accuracy on test-set:90.5%\n",
      "Accuracy on test-set:90.7%\n",
      "Accuracy on test-set:90.9%\n",
      "Accuracy on test-set:91.1%\n",
      "Accuracy on test-set:91.2%\n",
      "Accuracy on test-set:91.4%\n",
      "Accuracy on test-set:91.5%\n",
      "Accuracy on test-set:91.6%\n",
      "Accuracy on test-set:91.6%\n",
      "Accuracy on test-set:91.7%\n",
      "Accuracy on test-set:91.7%\n",
      "Accuracy on test-set:91.7%\n",
      "Accuracy on test-set:91.8%\n",
      "Accuracy on test-set:91.8%\n",
      "Accuracy on test-set:91.9%\n",
      "Accuracy on test-set:92.0%\n",
      "Accuracy on test-set:92.1%\n",
      "Accuracy on test-set:92.1%\n",
      "Accuracy on test-set:92.1%\n",
      "Accuracy on test-set:92.2%\n",
      "Accuracy on test-set:92.2%\n",
      "Accuracy on test-set:92.2%\n",
      "Accuracy on test-set:92.3%\n",
      "Accuracy on test-set:92.3%\n",
      "Accuracy on test-set:92.3%\n",
      "Accuracy on test-set:92.3%\n",
      "Accuracy on test-set:92.3%\n",
      "Accuracy on test-set:92.3%\n",
      "Accuracy on test-set:92.4%\n",
      "Accuracy on test-set:92.4%\n",
      "Accuracy on test-set:92.5%\n",
      "Accuracy on test-set:92.5%\n",
      "Accuracy on test-set:92.5%\n",
      "Accuracy on test-set:92.5%\n",
      "Accuracy on test-set:92.5%\n",
      "Accuracy on test-set:92.5%\n",
      "Accuracy on test-set:92.6%\n",
      "Accuracy on test-set:92.5%\n",
      "Accuracy on test-set:92.6%\n",
      "Accuracy on test-set:92.6%\n",
      "Accuracy on test-set:92.6%\n",
      "Accuracy on test-set:92.5%\n",
      "Accuracy on test-set:92.5%\n"
     ]
    }
   ],
   "source": [
    "optimize(num_iterations=50)"
   ]
  },
  {
   "cell_type": "code",
   "execution_count": 26,
   "metadata": {},
   "outputs": [
    {
     "data": {
      "text/plain": [
       "array([[ 0.06432353,  0.00122202, -0.01325975, ...,  0.07507232,\n",
       "         0.0481009 , -0.01991502],\n",
       "       [ 0.00096987,  0.12226941, -0.05710153, ..., -0.15901482,\n",
       "         0.04493607, -0.04977354],\n",
       "       [ 0.02009411,  0.00544313,  0.00783018, ...,  0.0667529 ,\n",
       "         0.10272159,  0.10152191],\n",
       "       ...,\n",
       "       [ 0.09095736, -0.04536934, -0.03681993, ...,  0.06812689,\n",
       "         0.11121942, -0.06619909],\n",
       "       [ 0.14150149,  0.01882986,  0.13878028, ...,  0.1153632 ,\n",
       "         0.09425774, -0.03588046],\n",
       "       [-0.00264089, -0.14728592,  0.13325498, ..., -0.02641422,\n",
       "         0.18225515, -0.0255996 ]], dtype=float32)"
      ]
     },
     "execution_count": 26,
     "metadata": {},
     "output_type": "execute_result"
    }
   ],
   "source": [
    "W1.eval(session=session)"
   ]
  },
  {
   "cell_type": "code",
   "execution_count": null,
   "metadata": {},
   "outputs": [],
   "source": []
  }
 ],
 "metadata": {
  "kernelspec": {
   "display_name": "Python 3",
   "language": "python",
   "name": "python3"
  },
  "language_info": {
   "codemirror_mode": {
    "name": "ipython",
    "version": 3
   },
   "file_extension": ".py",
   "mimetype": "text/x-python",
   "name": "python",
   "nbconvert_exporter": "python",
   "pygments_lexer": "ipython3",
   "version": "3.6.8"
  }
 },
 "nbformat": 4,
 "nbformat_minor": 2
}
